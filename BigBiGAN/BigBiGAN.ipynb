{
 "cells": [
  {
   "cell_type": "markdown",
   "metadata": {},
   "source": [
    "BigGAN+BiGAN=BigBiGAN\n",
    "\n",
    "The only differnce with BiGAN:\n",
    "\n",
    "we measure (x,z) vs (fake_x, fake_z) by:\n",
    "s(x)+s(z)+s(x,z)\n",
    "\n",
    "BigGAN: hinge loss to train D"
   ]
  }
 ],
 "metadata": {
  "kernelspec": {
   "display_name": "Python 3",
   "language": "python",
   "name": "python3"
  },
  "language_info": {
   "codemirror_mode": {
    "name": "ipython",
    "version": 3
   },
   "file_extension": ".py",
   "mimetype": "text/x-python",
   "name": "python",
   "nbconvert_exporter": "python",
   "pygments_lexer": "ipython3",
   "version": "3.6.9"
  }
 },
 "nbformat": 4,
 "nbformat_minor": 2
}
