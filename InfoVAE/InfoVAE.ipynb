{
 "cells": [
  {
   "cell_type": "markdown",
   "metadata": {},
   "source": [
    "VAE plus\n",
    "\n",
    "+ beta-VAE\n",
    "\n",
    "+ $\\lambda KL(q_\\phi(z)\\|p(z))$\n",
    "\n",
    "$$L = \\mathbb{E}_{q_\\phi(z|x)}[\\log p_\\theta(x|z)]-(1-\\alpha)\\text{KL}(q_\\phi(z|x)\\|p(z))\n",
    "+(\\alpha+\\lambda-1)\\text{KL}(q_\\phi(z)\\|p(z)).$$"
   ]
  }
 ],
 "metadata": {
  "kernelspec": {
   "display_name": "Python 3",
   "language": "python",
   "name": "python3"
  },
  "language_info": {
   "codemirror_mode": {
    "name": "ipython",
    "version": 3
   },
   "file_extension": ".py",
   "mimetype": "text/x-python",
   "name": "python",
   "nbconvert_exporter": "python",
   "pygments_lexer": "ipython3",
   "version": "3.6.9"
  }
 },
 "nbformat": 4,
 "nbformat_minor": 2
}
