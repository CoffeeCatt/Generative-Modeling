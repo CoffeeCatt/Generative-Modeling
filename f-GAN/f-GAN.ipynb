{
 "cells": [
  {
   "cell_type": "markdown",
   "id": "d389f452",
   "metadata": {},
   "source": [
    "Generative model:\n",
    "\n",
    "- sampling\n",
    "- estimation: given iid samples from an unknown distribution, find $Q$ that best describes the true distribution.\n",
    "- point-wise likelihood evaluation.\n",
    "\n",
    "Fenchel conjugate: \n",
    "$$f^*(t)=\\sup_u\\{ut-f(u)\\}$$\n",
    "\n",
    "lower bound on the f-div: \n",
    "$$D_f(P\\|Q)\\geq \\sup_t \\left(\\mathbb{E}_{x\\sim P}[T(x)]- \\mathbb{E}_{x\\sim Q} [f^*(T(x))]\\right)$$\n",
    "\n",
    "Training:\n",
    "$$F(\\theta, w) = \\mathbb{E}_{x\\sim P}[g_f(V_w(x))] + \\mathbb{E}_{x\\sim Q_\\theta}[-f^*(g_f(V_w(x)))]$$\n",
    "$V_w$: feature extraction discriminator, $g_f$: map the feature into the proper domain.\n",
    "\n",
    "Look at Table 2 for choosing $g_f$(somewhat arbitrary) and $f^*$."
   ]
  }
 ],
 "metadata": {
  "kernelspec": {
   "display_name": "Python 3",
   "language": "python",
   "name": "python3"
  },
  "language_info": {
   "codemirror_mode": {
    "name": "ipython",
    "version": 3
   },
   "file_extension": ".py",
   "mimetype": "text/x-python",
   "name": "python",
   "nbconvert_exporter": "python",
   "pygments_lexer": "ipython3",
   "version": "3.6.9"
  }
 },
 "nbformat": 4,
 "nbformat_minor": 5
}
