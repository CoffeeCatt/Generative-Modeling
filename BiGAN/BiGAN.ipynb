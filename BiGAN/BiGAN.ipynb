{
 "cells": [
  {
   "cell_type": "markdown",
   "metadata": {},
   "source": [
    "Use latent representation to solve auxiliary problems.\n",
    "\n",
    "Projecting data back into the latent space.\n",
    "\n",
    "The discriminator D discriminates not only in data space (x versus G(z)) but jointly in data and latent space ((x,E(x)) versus (G(z),z)).\n",
    "\n",
    "$$\\min_{G,E}\\max_{D} V(D,E,G)$$\n",
    "\n",
    "Code see ALI.\n",
    "\n",
    "Change stochastic z into a deterministic one."
   ]
  },
  {
   "cell_type": "markdown",
   "metadata": {},
   "source": [
    "$$V(D,E,G)=\\mathbb{E}_{x\\sim p_x}[\\mathbb{E}_{z\\sim p_E(.|x)}\\log D(x,z)]+\\mathbb{E}_{z\\sim p_z}\\left[\\mathbb{E}_{x\\sim p_G(.|z)}\\log(1-D(x,z))\\right]$$"
   ]
  }
 ],
 "metadata": {
  "kernelspec": {
   "display_name": "Python 3",
   "language": "python",
   "name": "python3"
  },
  "language_info": {
   "codemirror_mode": {
    "name": "ipython",
    "version": 3
   },
   "file_extension": ".py",
   "mimetype": "text/x-python",
   "name": "python",
   "nbconvert_exporter": "python",
   "pygments_lexer": "ipython3",
   "version": "3.6.9"
  }
 },
 "nbformat": 4,
 "nbformat_minor": 2
}
