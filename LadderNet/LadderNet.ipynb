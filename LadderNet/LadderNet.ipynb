{
 "cells": [
  {
   "cell_type": "markdown",
   "metadata": {},
   "source": [
    "Ladder network: auxiliary task is to denoise representations at every level of the model.\n",
    "\n",
    "A particularly attractive property of hierarchical latent variable models is that they can, in general, leave the details for the lower levels to represent, allowing higher levels to focus on more invariant, abstract features that turn out to be relevant for the task at hand.\n",
    "\n",
    "dAE: corrupted $\\hat{x}$->latent $z$ -> reconstructed $x$, cost is $\\|\\hat{x}-x\\|^2$.\n",
    "\n",
    "DSS: corrupted $\\hat{x}$->latent $\\hat{z}$->$y$, clean $\\hat{x}$->latent $z$->$y$, cost $\\|\\hat{z}-z\\|^2$.\n",
    "   + denoising function: $\\hat{z}^l=g^l(\\tilde{z}^l,\\hat{z}^{l+1})$"
   ]
  }
 ],
 "metadata": {
  "kernelspec": {
   "display_name": "Python 3",
   "language": "python",
   "name": "python3"
  },
  "language_info": {
   "codemirror_mode": {
    "name": "ipython",
    "version": 3
   },
   "file_extension": ".py",
   "mimetype": "text/x-python",
   "name": "python",
   "nbconvert_exporter": "python",
   "pygments_lexer": "ipython3",
   "version": "3.6.9"
  }
 },
 "nbformat": 4,
 "nbformat_minor": 2
}
